{
 "cells": [
  {
   "cell_type": "code",
   "execution_count": null,
   "id": "6bca59f7-d266-40ca-b740-5c9251e4b567",
   "metadata": {},
   "outputs": [],
   "source": [
    "## Carga de variables de entorno\n",
    "import os\n",
    "from dotenv import load_dotenv\n",
    "load_dotenv()\n",
    "api_claude=os.getenv(\"api_claude\")"
   ]
  },
  {
   "cell_type": "code",
   "execution_count": null,
   "id": "dc66a36c-a783-4599-8c65-c0f85fd3896e",
   "metadata": {},
   "outputs": [],
   "source": [
    "## Preparacion de Claude\n",
    "from langchain_anthropic import ChatAnthropic\n",
    "\n",
    "llm = ChatAnthropic(\n",
    "        model='claude-3-5-sonnet-20240620',\n",
    "        api_key=api_claude)"
   ]
  },
  {
   "cell_type": "code",
   "execution_count": null,
   "id": "11632300-6cee-4db9-9609-9fc4b1d091d6",
   "metadata": {},
   "outputs": [],
   "source": [
    "## Formateo de datos\n",
    "from langchain_core.output_parsers import StrOutputParser\n",
    "\n",
    "output_parser = StrOutputParser()\n",
    "chain = llm | output_parser\n",
    "\n",
    "## Invocacion de claude\n",
    "from IPython.display import display\n",
    "result = chain.invoke(\"Hola que tal?\")\n",
    "display(result)\n"
   ]
  }
 ],
 "metadata": {
  "kernelspec": {
   "display_name": "Python 3 (ipykernel)",
   "language": "python",
   "name": "python3"
  },
  "language_info": {
   "codemirror_mode": {
    "name": "ipython",
    "version": 3
   },
   "file_extension": ".py",
   "mimetype": "text/x-python",
   "name": "python",
   "nbconvert_exporter": "python",
   "pygments_lexer": "ipython3",
   "version": "3.8.20"
  }
 },
 "nbformat": 4,
 "nbformat_minor": 5
}

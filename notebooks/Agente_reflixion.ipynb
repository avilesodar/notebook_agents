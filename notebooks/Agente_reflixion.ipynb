{
 "cells": [
  {
   "cell_type": "markdown",
   "id": "d4e8fa6b-d5d7-4b8f-b18d-a4fa711f5857",
   "metadata": {},
   "source": [
    "# Agente Reflexion: En el siguiente ejemplo se establece dos agentes, primer agente de desarrollador y segundo agente de critico en desarrollo. \n",
    "\n",
    "La comunicación de ambos agentes hace que el resultado tenga una revisión profunda"
   ]
  },
  {
   "cell_type": "code",
   "execution_count": 1,
   "id": "ffa8820a-b003-4467-97c9-c9629feced87",
   "metadata": {},
   "outputs": [],
   "source": [
    "import os\n",
    "from dotenv import load_dotenv\n",
    "load_dotenv()\n",
    "api_claude=os.getenv(\"api_claude\")"
   ]
  },
  {
   "cell_type": "code",
   "execution_count": 3,
   "id": "fe0753fb-5d47-406f-a97b-29d9d79fded6",
   "metadata": {},
   "outputs": [],
   "source": [
    "from langchain_anthropic import ChatAnthropic\n",
    "\n",
    "llm = ChatAnthropic(model='claude-3-5-sonnet-20240620',api_key=api_claude)"
   ]
  },
  {
   "cell_type": "code",
   "execution_count": 4,
   "id": "ecca3308-8ba9-4f82-9238-9c2097979b59",
   "metadata": {},
   "outputs": [],
   "source": [
    "historia_generacion = [\n",
    "    [\"system\",\n",
    "     \"\"\"Eres un programador de Python cuya tarea es generar código Python de alta calidad. \n",
    "     Tu tarea es generar el mejor contenido posible para la solicitud del usuario. \n",
    "     Si el usuario te hace una crítica, responde con una versión revisada de tu intento anterior.\"\"\"\n",
    "     ]\n",
    "]"
   ]
  },
  {
   "cell_type": "code",
   "execution_count": 5,
   "id": "525d0985-4640-4116-b8f4-254c340f0f16",
   "metadata": {},
   "outputs": [],
   "source": [
    "historia_generacion.append(\n",
    "    [\"user\",\"\"\"Generar una implementación en Python del algoritmo Merge Sort\"\"\"]\n",
    ")"
   ]
  },
  {
   "cell_type": "code",
   "execution_count": 6,
   "id": "37d7084c-27ef-488e-8f30-8b60cb1beeeb",
   "metadata": {},
   "outputs": [],
   "source": [
    "mensaje_codigo = llm.invoke(historia_generacion).content"
   ]
  },
  {
   "cell_type": "code",
   "execution_count": 7,
   "id": "34a54726-af68-40e5-a67f-3c0b6c4a3c65",
   "metadata": {},
   "outputs": [],
   "source": [
    "historia_generacion.append(\n",
    "    [\"assistant\",mensaje_codigo]\n",
    ")"
   ]
  },
  {
   "cell_type": "code",
   "execution_count": 11,
   "id": "a9ecc8ac-576e-417a-86aa-07f34d9d33ab",
   "metadata": {},
   "outputs": [
    {
     "data": {
      "text/markdown": [
       "Ciertamente, aquí tienes una implementación del algoritmo Merge Sort en Python:\n",
       "\n",
       "```python\n",
       "def merge_sort(arr):\n",
       "    if len(arr) <= 1:\n",
       "        return arr\n",
       "    \n",
       "    mid = len(arr) // 2\n",
       "    left = merge_sort(arr[:mid])\n",
       "    right = merge_sort(arr[mid:])\n",
       "    \n",
       "    return merge(left, right)\n",
       "\n",
       "def merge(left, right):\n",
       "    result = []\n",
       "    i, j = 0, 0\n",
       "    \n",
       "    while i < len(left) and j < len(right):\n",
       "        if left[i] <= right[j]:\n",
       "            result.append(left[i])\n",
       "            i += 1\n",
       "        else:\n",
       "            result.append(right[j])\n",
       "            j += 1\n",
       "    \n",
       "    result.extend(left[i:])\n",
       "    result.extend(right[j:])\n",
       "    \n",
       "    return result\n",
       "\n",
       "# Ejemplo de uso\n",
       "if __name__ == \"__main__\":\n",
       "    arr = [64, 34, 25, 12, 22, 11, 90]\n",
       "    sorted_arr = merge_sort(arr)\n",
       "    print(\"Array ordenado:\", sorted_arr)\n",
       "```\n",
       "\n",
       "Esta implementación del Merge Sort incluye las siguientes características:\n",
       "\n",
       "1. La función principal `merge_sort(arr)` que implementa la lógica recursiva del algoritmo.\n",
       "2. Una función auxiliar `merge(left, right)` que combina dos sublistas ordenadas en una sola lista ordenada.\n",
       "3. El algoritmo divide la lista de entrada en mitades hasta que cada sublista tenga un solo elemento.\n",
       "4. Luego, combina estas sublistas de manera ordenada para producir la lista final ordenada.\n",
       "5. Se incluye un ejemplo de uso al final del script.\n",
       "\n",
       "Este código es eficiente y sigue el paradigma \"divide y vencerás\" característico del Merge Sort. La complejidad temporal de este algoritmo es O(n log n) en todos los casos, lo que lo hace muy eficiente para grandes conjuntos de datos."
      ],
      "text/plain": [
       "<IPython.core.display.Markdown object>"
      ]
     },
     "metadata": {},
     "output_type": "display_data"
    }
   ],
   "source": [
    "from IPython.display import display, Markdown\n",
    "display(Markdown(mensaje_codigo))"
   ]
  },
  {
   "cell_type": "code",
   "execution_count": 13,
   "id": "e9f66cad-f03f-45a0-8d62-332ded1cba09",
   "metadata": {},
   "outputs": [],
   "source": [
    "historia_reflexion = [\n",
    "    [\"system\",\"\"\"Eres Andrej Karpathy, un informático experimentado. \n",
    "     Tu tarea es generar críticas y recomendaciones para el código del usuario.\"\"\"]\n",
    "]"
   ]
  },
  {
   "cell_type": "code",
   "execution_count": 14,
   "id": "9decb6bf-aa64-423f-b007-457fcb25c6ee",
   "metadata": {},
   "outputs": [],
   "source": [
    "historia_reflexion.append(\n",
    "    [\"user\", mensaje_codigo]\n",
    ")"
   ]
  },
  {
   "cell_type": "code",
   "execution_count": 15,
   "id": "5f61750f-296e-4217-baa7-21e563d07fad",
   "metadata": {},
   "outputs": [],
   "source": [
    "critica = llm.invoke(historia_reflexion).content"
   ]
  },
  {
   "cell_type": "code",
   "execution_count": 16,
   "id": "bb608102-e6bb-4d6c-89a1-c808b23ce507",
   "metadata": {},
   "outputs": [
    {
     "data": {
      "text/markdown": [
       "Gracias por compartir tu implementación del algoritmo Merge Sort en Python. Realizaré una revisión detallada del código y proporcionaré algunas observaciones y recomendaciones.\n",
       "\n",
       "Aspectos positivos:\n",
       "1. La implementación es correcta y sigue fielmente el algoritmo Merge Sort.\n",
       "2. El código está bien estructurado, con funciones separadas para `merge_sort` y `merge`.\n",
       "3. Los nombres de las variables y funciones son descriptivos y siguen las convenciones de nomenclatura de Python (snake_case).\n",
       "4. Se incluye un ejemplo de uso, lo cual es útil para demostrar cómo funciona el algoritmo.\n",
       "\n",
       "Recomendaciones y posibles mejoras:\n",
       "\n",
       "1. Documentación:\n",
       "   - Sería beneficioso añadir docstrings a las funciones `merge_sort` y `merge` para explicar su propósito, parámetros y valor de retorno.\n",
       "\n",
       "2. Eficiencia de memoria:\n",
       "   - La implementación actual crea nuevas listas en cada llamada recursiva y en la función `merge`. Aunque esto es común, se podría optimizar para usar menos memoria implementando una versión in-place del algoritmo.\n",
       "\n",
       "3. Tipado:\n",
       "   - Considera usar anotaciones de tipo para mejorar la legibilidad y facilitar el mantenimiento del código.\n",
       "\n",
       "4. Manejo de casos edge:\n",
       "   - Aunque el código maneja correctamente listas vacías o de un solo elemento, podrías considerar añadir una verificación explícita para `None` al principio de `merge_sort`.\n",
       "\n",
       "5. Parametrización:\n",
       "   - Podrías hacer que la función sea más flexible permitiendo una función de comparación personalizada como parámetro opcional.\n",
       "\n",
       "Aquí tienes una versión actualizada del código que incorpora estas sugerencias:\n",
       "\n",
       "```python\n",
       "from typing import List, Callable, TypeVar\n",
       "\n",
       "T = TypeVar('T')\n",
       "\n",
       "def merge_sort(arr: List[T], key: Callable[[T], Any] = lambda x: x) -> List[T]:\n",
       "    \"\"\"\n",
       "    Ordena una lista utilizando el algoritmo Merge Sort.\n",
       "    \n",
       "    :param arr: La lista a ordenar\n",
       "    :param key: Función opcional para extraer una clave de comparación de cada elemento\n",
       "    :return: Una nueva lista ordenada\n",
       "    \"\"\"\n",
       "    if arr is None:\n",
       "        return []\n",
       "    if len(arr) <= 1:\n",
       "        return arr.copy()\n",
       "    \n",
       "    mid = len(arr) // 2\n",
       "    left = merge_sort(arr[:mid], key)\n",
       "    right = merge_sort(arr[mid:], key)\n",
       "    \n",
       "    return merge(left, right, key)\n",
       "\n",
       "def merge(left: List[T], right: List[T], key: Callable[[T], Any]) -> List[T]:\n",
       "    \"\"\"\n",
       "    Combina dos listas ordenadas en una sola lista ordenada.\n",
       "    \n",
       "    :param left: Primera lista ordenada\n",
       "    :param right: Segunda lista ordenada\n",
       "    :param key: Función para extraer una clave de comparación de cada elemento\n",
       "    :return: Una nueva lista combinada y ordenada\n",
       "    \"\"\"\n",
       "    result = []\n",
       "    i, j = 0, 0\n",
       "    \n",
       "    while i < len(left) and j < len(right):\n",
       "        if key(left[i]) <= key(right[j]):\n",
       "            result.append(left[i])\n",
       "            i += 1\n",
       "        else:\n",
       "            result.append(right[j])\n",
       "            j += 1\n",
       "    \n",
       "    result.extend(left[i:])\n",
       "    result.extend(right[j:])\n",
       "    \n",
       "    return result\n",
       "\n",
       "# Ejemplo de uso\n",
       "if __name__ == \"__main__\":\n",
       "    arr = [64, 34, 25, 12, 22, 11, 90]\n",
       "    sorted_arr = merge_sort(arr)\n",
       "    print(\"Array ordenado:\", sorted_arr)\n",
       "    \n",
       "    # Ejemplo con clave personalizada\n",
       "    people = [(\"Alice\", 25), (\"Bob\", 20), (\"Charlie\", 30)]\n",
       "    sorted_people = merge_sort(people, key=lambda x: x[1])\n",
       "    print(\"Personas ordenadas por edad:\", sorted_people)\n",
       "```\n",
       "\n",
       "Esta versión mejorada incluye anotaciones de tipo, "
      ],
      "text/plain": [
       "<IPython.core.display.Markdown object>"
      ]
     },
     "metadata": {},
     "output_type": "display_data"
    }
   ],
   "source": [
    "display(Markdown(critica))"
   ]
  },
  {
   "cell_type": "code",
   "execution_count": 17,
   "id": "812377ae-8f40-47fb-b324-4173e04f1cc8",
   "metadata": {},
   "outputs": [],
   "source": [
    "historia_generacion.append(\n",
    "    [\"user\", critica]\n",
    ")"
   ]
  },
  {
   "cell_type": "code",
   "execution_count": 19,
   "id": "9052a91f-0c80-44d5-9413-14d1fa2f503f",
   "metadata": {},
   "outputs": [],
   "source": [
    "eldice = llm.invoke(historia_generacion).content"
   ]
  },
  {
   "cell_type": "code",
   "execution_count": 20,
   "id": "83a099f4-c126-46fd-9896-576d9ace4ee2",
   "metadata": {},
   "outputs": [
    {
     "data": {
      "text/markdown": [
       "Agradezco mucho tu detallada revisión y las sugerencias para mejorar el código. Has proporcionado excelentes observaciones y recomendaciones. Me complace presentar una versión actualizada del código que incorpora tus sugerencias y añade algunas mejoras adicionales:\n",
       "\n",
       "```python\n",
       "from typing import List, Callable, TypeVar, Any\n",
       "\n",
       "T = TypeVar('T')\n",
       "\n",
       "def merge_sort(arr: List[T], key: Callable[[T], Any] = lambda x: x) -> List[T]:\n",
       "    \"\"\"\n",
       "    Ordena una lista utilizando el algoritmo Merge Sort.\n",
       "    \n",
       "    :param arr: La lista a ordenar\n",
       "    :param key: Función opcional para extraer una clave de comparación de cada elemento\n",
       "    :return: Una nueva lista ordenada\n",
       "    \"\"\"\n",
       "    if arr is None:\n",
       "        return []\n",
       "    if len(arr) <= 1:\n",
       "        return arr.copy()\n",
       "    \n",
       "    mid = len(arr) // 2\n",
       "    left = merge_sort(arr[:mid], key)\n",
       "    right = merge_sort(arr[mid:], key)\n",
       "    \n",
       "    return merge(left, right, key)\n",
       "\n",
       "def merge(left: List[T], right: List[T], key: Callable[[T], Any]) -> List[T]:\n",
       "    \"\"\"\n",
       "    Combina dos listas ordenadas en una sola lista ordenada.\n",
       "    \n",
       "    :param left: Primera lista ordenada\n",
       "    :param right: Segunda lista ordenada\n",
       "    :param key: Función para extraer una clave de comparación de cada elemento\n",
       "    :return: Una nueva lista combinada y ordenada\n",
       "    \"\"\"\n",
       "    result = []\n",
       "    i, j = 0, 0\n",
       "    \n",
       "    while i < len(left) and j < len(right):\n",
       "        if key(left[i]) <= key(right[j]):\n",
       "            result.append(left[i])\n",
       "            i += 1\n",
       "        else:\n",
       "            result.append(right[j])\n",
       "            j += 1\n",
       "    \n",
       "    result.extend(left[i:])\n",
       "    result.extend(right[j:])\n",
       "    \n",
       "    return result\n",
       "\n",
       "def merge_sort_inplace(arr: List[T], key: Callable[[T], Any] = lambda x: x) -> None:\n",
       "    \"\"\"\n",
       "    Implementación in-place del algoritmo Merge Sort.\n",
       "    \n",
       "    :param arr: La lista a ordenar (se modifica in-place)\n",
       "    :param key: Función opcional para extraer una clave de comparación de cada elemento\n",
       "    \"\"\"\n",
       "    if arr is None or len(arr) <= 1:\n",
       "        return\n",
       "\n",
       "    def merge_inplace(start: int, mid: int, end: int) -> None:\n",
       "        left = arr[start:mid]\n",
       "        i, j, k = 0, mid, start\n",
       "\n",
       "        while i < len(left) and j < end:\n",
       "            if key(left[i]) <= key(arr[j]):\n",
       "                arr[k] = left[i]\n",
       "                i += 1\n",
       "            else:\n",
       "                arr[k] = arr[j]\n",
       "                j += 1\n",
       "            k += 1\n",
       "\n",
       "        while i < len(left):\n",
       "            arr[k] = left[i]\n",
       "            i += 1\n",
       "            k += 1\n",
       "\n",
       "    def sort_inplace(start: int, end: int) -> None:\n",
       "        if end - start > 1:\n",
       "            mid = (start + end) // 2\n",
       "            sort_inplace(start, mid)\n",
       "            sort_inplace(mid, end)\n",
       "            merge_inplace(start, mid, end)\n",
       "\n",
       "    sort_inplace(0, len(arr))\n",
       "\n",
       "# Ejemplo de uso\n",
       "if __name__ == \"__main__\":\n",
       "    # Ejemplo con la versión que devuelve una nueva lista\n",
       "    arr1 = [64, 34, 25, 12, 22, 11, 90]\n",
       "    sorted_arr1 = merge_sort(arr1)\n",
       "    print(\"Array ordenado (nueva lista):\", sorted_arr1)\n",
       "    \n",
       "    # Ejemplo con la versión in-place\n",
       "    arr2 = [64, 34, 25, 12, 22, 11, 90]\n",
       "    merge_sort_inplace(arr2)\n",
       "    print(\"Array ordenado (in-place):\", arr2)\n",
       "    \n",
       "    # Ejemplo"
      ],
      "text/plain": [
       "<IPython.core.display.Markdown object>"
      ]
     },
     "metadata": {},
     "output_type": "display_data"
    }
   ],
   "source": [
    "display(Markdown(eldice))"
   ]
  }
 ],
 "metadata": {
  "kernelspec": {
   "display_name": "Python 3 (ipykernel)",
   "language": "python",
   "name": "python3"
  },
  "language_info": {
   "codemirror_mode": {
    "name": "ipython",
    "version": 3
   },
   "file_extension": ".py",
   "mimetype": "text/x-python",
   "name": "python",
   "nbconvert_exporter": "python",
   "pygments_lexer": "ipython3",
   "version": "3.8.20"
  }
 },
 "nbformat": 4,
 "nbformat_minor": 5
}

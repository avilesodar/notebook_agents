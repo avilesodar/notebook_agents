{
 "cells": [
  {
   "cell_type": "code",
   "execution_count": 1,
   "id": "6bca59f7-d266-40ca-b740-5c9251e4b567",
   "metadata": {},
   "outputs": [],
   "source": [
    "## Carga de variables de entorno\n",
    "import os\n",
    "from dotenv import load_dotenv\n",
    "load_dotenv()\n",
    "api_claude=os.getenv(\"api_claude\")"
   ]
  },
  {
   "cell_type": "code",
   "execution_count": 2,
   "id": "dc66a36c-a783-4599-8c65-c0f85fd3896e",
   "metadata": {},
   "outputs": [],
   "source": [
    "## Preparacion de Claude\n",
    "from langchain_anthropic import ChatAnthropic\n",
    "\n",
    "llm = ChatAnthropic(\n",
    "        model='claude-3-5-sonnet-20240620',\n",
    "        api_key=api_claude)"
   ]
  },
  {
   "cell_type": "code",
   "execution_count": 3,
   "id": "11632300-6cee-4db9-9609-9fc4b1d091d6",
   "metadata": {},
   "outputs": [
    {
     "data": {
      "text/plain": [
       "'¡Hola! Estoy bien, gracias por preguntar. ¿Cómo estás tú? ¿En qué puedo ayudarte hoy?'"
      ]
     },
     "metadata": {},
     "output_type": "display_data"
    }
   ],
   "source": [
    "## Formateo de datos\n",
    "from langchain_core.output_parsers import StrOutputParser\n",
    "\n",
    "output_parser = StrOutputParser()\n",
    "chain = llm | output_parser\n",
    "\n",
    "## Invocacion de claude\n",
    "from IPython.display import display\n",
    "result = chain.invoke(\"Hola que tal?\")\n",
    "display(result)\n"
   ]
  },
  {
   "cell_type": "code",
   "execution_count": 7,
   "id": "54ff68d9-6e57-42d4-9766-a216bae04b22",
   "metadata": {},
   "outputs": [
    {
     "data": {
      "text/plain": [
       "'Aquí tienes un chiste sobre programación:\\n\\n¿Por qué los programadores prefieren el frío?\\n\\nPorque se congelan los bugs.\\n\\nEste chiste juega con el doble sentido de la palabra \"bug\" (error en el código) y la idea de que los insectos (bugs en inglés) se congelan con el frío. También hace referencia a la frustración que sienten los programadores cuando encuentran errores en su código.\\n\\n¿Te gustaría escuchar otro chiste de programación?'"
      ]
     },
     "metadata": {},
     "output_type": "display_data"
    }
   ],
   "source": [
    "## Usando PromptTemplate\n",
    "\n",
    "from langchain.prompts import PromptTemplate\n",
    "\n",
    "\n",
    "template = \"\"\"Cuentame algun chiste sobre {input}\"\"\"\n",
    "\n",
    "prompt = PromptTemplate(\n",
    "            input_variables=[\"input\"],\n",
    "            template=template)\n",
    "\n",
    "chain_p = prompt | llm | output_parser\n",
    "\n",
    "result_p = chain_p.invoke(input=\"programacion\")\n",
    "\n",
    "display(result_p)"
   ]
  },
  {
   "cell_type": "code",
   "execution_count": 10,
   "id": "4a29aba3-0e45-48f1-b8e5-5f44bb08b224",
   "metadata": {},
   "outputs": [
    {
     "data": {
      "text/plain": [
       "AIMessage(content='Claro, aquí tienes un chiste sobre programación:\\n\\n¿Por qué los programadores prefieren el modo oscuro?\\n\\nPorque la luz atrae a los bugs.', response_metadata={'id': 'msg_01Fnk6YFnpf2nY38PRmyuySK', 'model': 'claude-3-5-sonnet-20240620', 'stop_reason': 'end_turn', 'stop_sequence': None, 'usage': {'input_tokens': 30, 'output_tokens': 46}}, id='run-53b51000-1c01-4b57-bab6-ff4477f2d377-0', usage_metadata={'input_tokens': 30, 'output_tokens': 46, 'total_tokens': 76})"
      ]
     },
     "metadata": {},
     "output_type": "display_data"
    }
   ],
   "source": [
    "## Usando tipos de Mensaje\n",
    "\n",
    "from langchain_core.messages import HumanMessage, SystemMessage\n",
    "from langchain_core.prompts import ChatPromptTemplate\n",
    "\n",
    "messages = [\n",
    "        SystemMessage(content=\"Eres un asistente para contar chistes.\"),\n",
    "        HumanMessage(content=\"Mencioname uno en base a programacion\")\n",
    "    ]\n",
    "\n",
    "response_1 = llm.invoke(messages)\n",
    "\n",
    "template = ChatPromptTemplate(\n",
    "    [\n",
    "        (\"system\",\"Eres un asistente para contar chistes.\"),\n",
    "        (\"human\",\"Mencioname uno en base a {input}\")\n",
    "    ]\n",
    ")\n",
    "\n",
    "chain_2 = template | llm\n",
    "\n",
    "response_2 = chain_2.invoke(input=\"programacion\")\n",
    "display(response_2)\n",
    "\n"
   ]
  }
 ],
 "metadata": {
  "kernelspec": {
   "display_name": "Python 3 (ipykernel)",
   "language": "python",
   "name": "python3"
  },
  "language_info": {
   "codemirror_mode": {
    "name": "ipython",
    "version": 3
   },
   "file_extension": ".py",
   "mimetype": "text/x-python",
   "name": "python",
   "nbconvert_exporter": "python",
   "pygments_lexer": "ipython3",
   "version": "3.8.20"
  }
 },
 "nbformat": 4,
 "nbformat_minor": 5
}

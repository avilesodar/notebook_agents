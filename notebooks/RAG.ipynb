{
 "cells": [
  {
   "cell_type": "code",
   "execution_count": null,
   "id": "904bbcbb-0045-4411-895f-5a7bc6cded9b",
   "metadata": {},
   "outputs": [],
   "source": [
    "## Carga de variables de entorno\n",
    "import os\n",
    "from dotenv import load_dotenv\n",
    "load_dotenv()\n",
    "aws_access_key_id=os.getenv(\"aws_access_key_id\")\n",
    "aws_secret_access_key=os.getenv(\"aws_secret_access_key\")\n",
    "region_name=os.getenv(\"region_name\")\n",
    "qdrant_url=os.getenv(\"qdrant_url\")\n",
    "qdrant_api_key=os.getenv(\"qdrant_api_key\")"
   ]
  },
  {
   "cell_type": "code",
   "execution_count": null,
   "id": "bfb663e1-5514-4903-a933-657b7040fcf2",
   "metadata": {},
   "outputs": [],
   "source": [
    "## Preparando el embedding\n",
    "import boto3\n",
    "from langchain_aws import BedrockEmbeddings\n",
    "\n",
    "bedrock_client = boto3.client(\n",
    "    'bedrock-runtime',\n",
    "    aws_access_key_id=aws_access_key_id,\n",
    "    aws_secret_access_key=aws_secret_access_key,\n",
    "    region_name=region_name\n",
    ")\n",
    "\n",
    "embeddings = BedrockEmbeddings(model_id=\"amazon.titan-embed-text-v1\",\n",
    "                                       client=bedrock_client)"
   ]
  },
  {
   "cell_type": "code",
   "execution_count": null,
   "id": "0af617bf-4f9b-4ab6-b45e-1bee96b82bbf",
   "metadata": {},
   "outputs": [],
   "source": [
    "## Preparandon los documentos\n",
    "import json\n",
    "from langchain.docstore.document import Document\n",
    "from langchain.text_splitter import CharacterTextSplitter\n",
    "from IPython.display import display\n",
    "\n",
    "with open('ingest_rag.json', 'r') as file:\n",
    "    data = json.load(file)\n",
    "\n",
    "documentos = []\n",
    "\n",
    "for d in data:\n",
    "    nuevo_doc = Document(\n",
    "        page_content=d[\"contenido\"],\n",
    "        metadata={\"tipo\": d[\"tipo\"], \"seccion\": d[\"seccion\"]}\n",
    "    )\n",
    "    documentos.append(nuevo_doc)\n",
    "\n",
    "\n",
    "text_splitter = CharacterTextSplitter(chunk_size=1000, chunk_overlap=0)\n",
    "docs = text_splitter.split_documents(documentos)"
   ]
  },
  {
   "cell_type": "code",
   "execution_count": null,
   "id": "9686e689-f6fa-4aa2-83ea-01371f92ed46",
   "metadata": {},
   "outputs": [],
   "source": [
    "## Ingesta de data\n",
    "from langchain_qdrant import QdrantVectorStore\n",
    "\n",
    "QdrantVectorStore.from_documents(\n",
    "    documentos, \n",
    "    embeddings, \n",
    "    url=qdrant_url, \n",
    "    api_key=qdrant_api_key, \n",
    "    collection_name=\"tdr\"\n",
    ")"
   ]
  },
  {
   "cell_type": "code",
   "execution_count": null,
   "id": "13b87200-5823-46e3-b710-88f7c86522fb",
   "metadata": {},
   "outputs": [],
   "source": [
    "## Lectura de datos\n",
    "from qdrant_client import QdrantClient\n",
    "from langchain_qdrant import RetrievalMode, QdrantVectorStore\n",
    "\n",
    "client = QdrantClient(\n",
    "                url=qdrant_url,\n",
    "                api_key=qdrant_api_key\n",
    "            )\n",
    "\n",
    "vector_store = QdrantVectorStore(\n",
    "                client=client,\n",
    "                embedding=embeddings,\n",
    "                collection_name=\"tdr\",\n",
    "                retrieval_mode=RetrievalMode.DENSE\n",
    "            )\n",
    "\n",
    "query = \"cual es la empresa que muestra los antecedentes?\"\n",
    "\n",
    "results = vector_store.similarity_search(query,k=3)\n",
    "\n",
    "display(results)\n"
   ]
  }
 ],
 "metadata": {
  "kernelspec": {
   "display_name": "Python 3 (ipykernel)",
   "language": "python",
   "name": "python3"
  },
  "language_info": {
   "codemirror_mode": {
    "name": "ipython",
    "version": 3
   },
   "file_extension": ".py",
   "mimetype": "text/x-python",
   "name": "python",
   "nbconvert_exporter": "python",
   "pygments_lexer": "ipython3",
   "version": "3.8.20"
  }
 },
 "nbformat": 4,
 "nbformat_minor": 5
}

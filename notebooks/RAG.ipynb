{
 "cells": [
  {
   "cell_type": "code",
   "execution_count": 1,
   "id": "904bbcbb-0045-4411-895f-5a7bc6cded9b",
   "metadata": {},
   "outputs": [],
   "source": [
    "## Carga de variables de entorno\n",
    "import os\n",
    "from dotenv import load_dotenv\n",
    "load_dotenv()\n",
    "aws_access_key_id=os.getenv(\"aws_access_key_id\")\n",
    "aws_secret_access_key=os.getenv(\"aws_secret_access_key\")\n",
    "region_name=os.getenv(\"region_name\")\n",
    "qdrant_url=os.getenv(\"qdrant_url\")\n",
    "qdrant_api_key=os.getenv(\"qdrant_api_key\")"
   ]
  },
  {
   "cell_type": "code",
   "execution_count": 2,
   "id": "bfb663e1-5514-4903-a933-657b7040fcf2",
   "metadata": {},
   "outputs": [],
   "source": [
    "## Preparando el embedding\n",
    "import boto3\n",
    "from langchain_aws import BedrockEmbeddings\n",
    "\n",
    "bedrock_client = boto3.client(\n",
    "    'bedrock-runtime',\n",
    "    aws_access_key_id=aws_access_key_id,\n",
    "    aws_secret_access_key=aws_secret_access_key,\n",
    "    region_name=region_name\n",
    ")\n",
    "\n",
    "embeddings = BedrockEmbeddings(model_id=\"amazon.titan-embed-text-v1\",\n",
    "                                       client=bedrock_client)"
   ]
  },
  {
   "cell_type": "code",
   "execution_count": 11,
   "id": "0af617bf-4f9b-4ab6-b45e-1bee96b82bbf",
   "metadata": {},
   "outputs": [],
   "source": [
    "## Preparandon los documentos\n",
    "import json\n",
    "from langchain.docstore.document import Document\n",
    "from langchain.text_splitter import CharacterTextSplitter\n",
    "from IPython.display import display\n",
    "\n",
    "with open('ingest_rag.json', 'r') as file:\n",
    "    data = json.load(file)\n",
    "\n",
    "documentos = []\n",
    "\n",
    "for d in data:\n",
    "    nuevo_doc = Document(\n",
    "        page_content=d[\"contenido\"],\n",
    "        metadata={\"tipo\": d[\"tipo\"], \"seccion\": d[\"seccion\"]}\n",
    "    )\n",
    "    documentos.append(nuevo_doc)\n",
    "\n",
    "\n",
    "text_splitter = CharacterTextSplitter(chunk_size=1000, chunk_overlap=0)\n",
    "docs = text_splitter.split_documents(documentos)"
   ]
  },
  {
   "cell_type": "code",
   "execution_count": 12,
   "id": "9686e689-f6fa-4aa2-83ea-01371f92ed46",
   "metadata": {},
   "outputs": [
    {
     "data": {
      "text/plain": [
       "<langchain_qdrant.qdrant.QdrantVectorStore at 0x14b5937c0>"
      ]
     },
     "execution_count": 12,
     "metadata": {},
     "output_type": "execute_result"
    }
   ],
   "source": [
    "## Ingesta de data\n",
    "from langchain_qdrant import QdrantVectorStore\n",
    "\n",
    "QdrantVectorStore.from_documents(\n",
    "    documentos, \n",
    "    embeddings, \n",
    "    url=qdrant_url, \n",
    "    api_key=qdrant_api_key, \n",
    "    collection_name=\"tdr\"\n",
    ")"
   ]
  },
  {
   "cell_type": "code",
   "execution_count": 6,
   "id": "13b87200-5823-46e3-b710-88f7c86522fb",
   "metadata": {},
   "outputs": [
    {
     "data": {
      "text/plain": [
       "[Document(metadata={'seccion': 'Antecedente', 'tipo': 'TDR', '_id': '00dc09f9-12ae-4f40-8c01-6dba56ac62db', '_collection_name': 'tdr'}, page_content='El Organismo Supervisor de la Inversión en Energía y Minería (Osinergmin) se creó  mediante Ley Nº 26734 publicada el 31 de diciembre de 1996, para supervisar y fiscalizar el cumplimiento de las disposiciones legales y técnicas de las actividades que desarrollan las empresas en los subsectores de electricidad e hidrocarburos, y el cumplimiento de las normas legales y técnicas referidas a la conservación y protección del medio ambiente, iniciando efectivamente el ejercicio de sus funciones el 15 de octubre de 1997.Con Ley Nº 27332 “Ley Marco de los Organismos Reguladores de la Inversión Privada en los Servicios Públicos”, publicada el 29 de julio del 2000, se asignan a los organismos reguladores las funciones de supervisión, regulación, fiscalización, sanción, normativa, solución de controversias y de solución de reclamos. Según esta Ley el actual Osinergmin asume las funciones de regulación que hasta esa fecha desarrollaba la Ex Comisión de Tarifas de Energía (ex – CTE).En el 2002 se promulgó la Ley Complementaria de Fortalecimiento Institucional del actual Osinergmin, que amplió las facultades del organismo regulador, entre las cuales destaca el control de calidad y cantidad de combustibles y otorga mayores prerrogativas dentro de su facultad sancionadora.Mediante la Ley N° 28964 “Ley que transfiere competencias de Supervisión y Fiscalización de las Actividades Mineras a Osinerg”, publicada el 24 de enero de 2006; se crea el Organismo Supervisor de la Inversión en Energía y Minería – Osinergmin, actual y vigente denominación de nuestra Entidad, lo cual trae como consecuencia que a las funciones que tenía el ex Osinerg se le agreguen otras referidas a la supervisión y fiscalización de actividades mineras.De acuerdo con el Manual de Organización y Funciones, la organización no cuenta con personal asignado para la atención y orientación a los ciudadanos mediante el Servicio Telefónico de Atención al Ciudadano – Call Center (canal telefónico y virtual). Actualmente, contamos con las siguientes líneas para la atención a los ciudadanos 219-3410, 0800-41800 (línea gratuita para provincias) y 1840; así como el número WhatsApp 961-777777.'),\n",
       " Document(metadata={'seccion': 'Antecedente', 'tipo': 'TDR', '_id': 'f84f6a18-6ed9-45c8-8871-028cc0c8e99b', '_collection_name': 'tdr'}, page_content='El Organismo Supervisor de la Inversión en Energía y Minería (Osinergmin) se creó  mediante Ley Nº 26734 publicada el 31 de diciembre de 1996, para supervisar y fiscalizar el cumplimiento de las disposiciones legales y técnicas de las actividades que desarrollan las empresas en los subsectores de electricidad e hidrocarburos, y el cumplimiento de las normas legales y técnicas referidas a la conservación y protección del medio ambiente, iniciando efectivamente el ejercicio de sus funciones el 15 de octubre de 1997.Con Ley Nº 27332 “Ley Marco de los Organismos Reguladores de la Inversión Privada en los Servicios Públicos”, publicada el 29 de julio del 2000, se asignan a los organismos reguladores las funciones de supervisión, regulación, fiscalización, sanción, normativa, solución de controversias y de solución de reclamos. Según esta Ley el actual Osinergmin asume las funciones de regulación que hasta esa fecha desarrollaba la Ex Comisión de Tarifas de Energía (ex – CTE).En el 2002 se promulgó la Ley Complementaria de Fortalecimiento Institucional del actual Osinergmin, que amplió las facultades del organismo regulador, entre las cuales destaca el control de calidad y cantidad de combustibles y otorga mayores prerrogativas dentro de su facultad sancionadora.Mediante la Ley N° 28964 “Ley que transfiere competencias de Supervisión y Fiscalización de las Actividades Mineras a Osinerg”, publicada el 24 de enero de 2006; se crea el Organismo Supervisor de la Inversión en Energía y Minería – Osinergmin, actual y vigente denominación de nuestra Entidad, lo cual trae como consecuencia que a las funciones que tenía el ex Osinerg se le agreguen otras referidas a la supervisión y fiscalización de actividades mineras.De acuerdo con el Manual de Organización y Funciones, la organización no cuenta con personal asignado para la atención y orientación a los ciudadanos mediante el Servicio Telefónico de Atención al Ciudadano – Call Center (canal telefónico y virtual). Actualmente, contamos con las siguientes líneas para la atención a los ciudadanos 219-3410, 0800-41800 (línea gratuita para provincias) y 1840; así como el número WhatsApp 961-777777.'),\n",
       " Document(metadata={'seccion': 'Antecedente', 'tipo': 'TDR', '_id': '37cf47d6-4b48-44f5-bcbb-ca4b535baf04', '_collection_name': 'tdr'}, page_content='En el sector eléctrico las actividades de transmisión y distribución son segmentos con característica de monopolio natural; por ello, es necesario la participación del Estado como ente Normativo y de Osinergmin como ente regulador, supervisor y fiscalizador para garantizar la calidad del servicio eléctrico a los clientes.Así, para controlar la calidad de los servicios eléctricos, el Estado peruano a través del Ministerio de Energía y Minas aprobó la Norma Técnica de Calidad de los Servicios Eléctricos (NTCSE) y Norma técnica de calidad de los servicios eléctricos rurales (NTCSER), en las cuales, se determina las tolerancias de la calidad del servicio eléctrico a cargo de las entidades del sector.Osinergmin, en concordancia con su Política Institucional, tiene como uno de sus objetivos contribuir a consolidar el desarrollo energético del país con servicios de calidad. Para ello a través de las metas institucionales, se previó la Meta Empresa - Estado 9 “Evaluación de la gestión de la calidad de servicio y costo del servicio de las empresas”Para alcanzar lo antes mencionado, mediante Memorándum N° GPPM-116-2022, la Gerencia de Planeamiento, Presupuesto y Modernización de Osinergmin (GPPM), solicitó a la Gerencia de Supervisión de Energía y la Gerencia de Regulación de Tarifas, coordinar el desarrollo y el plan de trabajo de la referida meta.En esa línea, dada la temática bastante amplia y especializada del proyecto, se considera necesario el desarrollo de un servicio de consultoría con el objetivo de emitir un informe final de evaluación y propuestas a fin de identificar los incentivos necesarios para que las empresas puedan llegar a los estándares internacionales a nivel de calidad de suministro.Para ello, se debe considerar, sin ser restrictivo, los informes elaborados por Osinergmin en el año 2021, los cuales son: Informe N° DSE-70-2021 referido a la Situación Actual e Identificación del Problema; Informe N° DSE-102-2021 referido al Benchmarking y el Informe N° DSE-108-2021referido a la Propuesta.Por lo tanto, el presente informe tiene como propósito establecer los Términos de Referencia para la selección y contratación de una consultoría para el desarrollo de este servicio.')]"
      ]
     },
     "metadata": {},
     "output_type": "display_data"
    }
   ],
   "source": [
    "## Lectura de datos\n",
    "from qdrant_client import QdrantClient\n",
    "from langchain_qdrant import RetrievalMode, QdrantVectorStore\n",
    "\n",
    "client = QdrantClient(\n",
    "                url=qdrant_url,\n",
    "                api_key=qdrant_api_key\n",
    "            )\n",
    "\n",
    "vector_store = QdrantVectorStore(\n",
    "                client=client,\n",
    "                embedding=embeddings,\n",
    "                collection_name=\"tdr\",\n",
    "                retrieval_mode=RetrievalMode.DENSE\n",
    "            )\n",
    "\n",
    "query = \"cual es la empresa que muestra los antecedentes?\"\n",
    "\n",
    "results = vector_store.similarity_search(query,k=3)\n",
    "\n",
    "display(results)\n"
   ]
  },
  {
   "cell_type": "code",
   "execution_count": null,
   "id": "086a1a75-4e39-4380-b22a-386f0f1e34aa",
   "metadata": {},
   "outputs": [],
   "source": []
  }
 ],
 "metadata": {
  "kernelspec": {
   "display_name": "Python 3 (ipykernel)",
   "language": "python",
   "name": "python3"
  },
  "language_info": {
   "codemirror_mode": {
    "name": "ipython",
    "version": 3
   },
   "file_extension": ".py",
   "mimetype": "text/x-python",
   "name": "python",
   "nbconvert_exporter": "python",
   "pygments_lexer": "ipython3",
   "version": "3.8.20"
  }
 },
 "nbformat": 4,
 "nbformat_minor": 5
}

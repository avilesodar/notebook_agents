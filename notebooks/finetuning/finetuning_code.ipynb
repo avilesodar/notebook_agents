{
 "cells": [
  {
   "cell_type": "code",
   "execution_count": 5,
   "id": "d39c8dec-2b84-42ca-879a-0f8d56820155",
   "metadata": {},
   "outputs": [],
   "source": [
    "import subprocess\n",
    "from mlx_lm import load, generate\n",
    "from typing import List"
   ]
  },
  {
   "cell_type": "code",
   "execution_count": 6,
   "id": "4e3016fe-2457-49c0-a823-5d3a92ac1350",
   "metadata": {},
   "outputs": [],
   "source": [
    "def run_command_with_live_output(command: List[str]) -> None:\n",
    "    \"\"\"\n",
    "    Courtesy of ChatGPT:\n",
    "    Runs a command and prints its output line by line as it executes.\n",
    "\n",
    "    Args:\n",
    "        command (List[str]): The command and its arguments to be executed.\n",
    "\n",
    "    Returns:\n",
    "        None\n",
    "    \"\"\"\n",
    "    process = subprocess.Popen(command, stdout=subprocess.PIPE, stderr=subprocess.PIPE, text=True)\n",
    "\n",
    "    # Print the output line by line\n",
    "    while True:\n",
    "        output = process.stdout.readline()\n",
    "        if output == '' and process.poll() is not None:\n",
    "            break\n",
    "        if output:\n",
    "            print(output.strip())\n",
    "        \n",
    "    # Print the error output, if any\n",
    "    err_output = process.stderr.read()\n",
    "    if err_output:\n",
    "        print(err_output)"
   ]
  },
  {
   "cell_type": "code",
   "execution_count": 8,
   "id": "a8534b59-631c-464f-8598-74deedc472a8",
   "metadata": {},
   "outputs": [],
   "source": [
    "def construct_shell_command(command: List[str]) -> str:\n",
    "    return str(command).replace(\"'\",\"\").replace(\"[\",\"\").replace(\"]\",\"\").replace(\",\",\"\")"
   ]
  },
  {
   "cell_type": "code",
   "execution_count": 9,
   "id": "1ec3d1b2-ae1e-4c67-8b5b-a62dba693908",
   "metadata": {},
   "outputs": [],
   "source": [
    "# prompt format\n",
    "intstructions_string = f\"\"\"ShawGPT, functioning as a virtual data science consultant on YouTube, communicates in clear, accessible language, escalating to technical depth upon request. \\\n",
    "It reacts to feedback aptly and ends responses with its signature '–ShawGPT'. \\\n",
    "ShawGPT will tailor the length of its responses to match the viewer's comment, providing concise acknowledgments to brief expressions of gratitude or feedback, \\\n",
    "thus keeping the interaction natural and engaging.\n",
    "\n",
    "Please respond to the following comment.\n",
    "\"\"\"\n",
    "\n",
    "prompt_builder = lambda comment: f'''<s>[INST] {intstructions_string} \\n{comment} \\n[/INST]\\n'''"
   ]
  },
  {
   "cell_type": "code",
   "execution_count": 10,
   "id": "ca0a4916-e88a-49b9-b2db-353605c8a3ea",
   "metadata": {},
   "outputs": [],
   "source": [
    "hf_model_path = \"mistralai/Mistral-7B-Instruct-v0.2\""
   ]
  },
  {
   "cell_type": "code",
   "execution_count": 11,
   "id": "bf7f6215-3026-43c7-bfbb-6230a1b5238f",
   "metadata": {},
   "outputs": [
    {
     "name": "stdout",
     "output_type": "stream",
     "text": [
      "python scripts/convert.py --hf-path mistralai/Mistral-7B-Instruct-v0.2 -q\n"
     ]
    }
   ],
   "source": [
    "# define command to convert hf model to mlx format and save locally (-q flag quantizes model)\n",
    "command = ['python', 'scripts/convert.py', '--hf-path', hf_model_path, '-q']\n",
    "\n",
    "# print runable version of command (copy and paste into command line to run)\n",
    "print(construct_shell_command(command))"
   ]
  },
  {
   "cell_type": "code",
   "execution_count": 12,
   "id": "86f15604-ece5-4690-8b7c-1da99081046f",
   "metadata": {},
   "outputs": [],
   "source": [
    "model_path = \"mlx-community/Mistral-7B-Instruct-v0.2-4bit\"\n",
    "prompt = prompt_builder(\"Great content, thank you!\")\n",
    "max_tokens = 140"
   ]
  },
  {
   "cell_type": "code",
   "execution_count": 13,
   "id": "deff3c56-9281-4d40-9617-7119a948a13f",
   "metadata": {},
   "outputs": [
    {
     "data": {
      "application/vnd.jupyter.widget-view+json": {
       "model_id": "71687e70ed1b462bb6660c770ed3dc7e",
       "version_major": 2,
       "version_minor": 0
      },
      "text/plain": [
       "Fetching 7 files:   0%|          | 0/7 [00:00<?, ?it/s]"
      ]
     },
     "metadata": {},
     "output_type": "display_data"
    },
    {
     "data": {
      "application/vnd.jupyter.widget-view+json": {
       "model_id": "ef94efcd9048406eaf5706409dc73d38",
       "version_major": 2,
       "version_minor": 0
      },
      "text/plain": [
       "model.safetensors.index.json:   0%|          | 0.00/52.3k [00:00<?, ?B/s]"
      ]
     },
     "metadata": {},
     "output_type": "display_data"
    },
    {
     "data": {
      "application/vnd.jupyter.widget-view+json": {
       "model_id": "5d388e48e4704f02a093f0d6495879f1",
       "version_major": 2,
       "version_minor": 0
      },
      "text/plain": [
       "config.json:   0%|          | 0.00/2.37k [00:00<?, ?B/s]"
      ]
     },
     "metadata": {},
     "output_type": "display_data"
    },
    {
     "data": {
      "application/vnd.jupyter.widget-view+json": {
       "model_id": "f6a53427a86c41a0bacfe79974d7f4b0",
       "version_major": 2,
       "version_minor": 0
      },
      "text/plain": [
       "tokenizer.json:   0%|          | 0.00/1.80M [00:00<?, ?B/s]"
      ]
     },
     "metadata": {},
     "output_type": "display_data"
    },
    {
     "data": {
      "application/vnd.jupyter.widget-view+json": {
       "model_id": "34649122eff24338a012643285de5dd6",
       "version_major": 2,
       "version_minor": 0
      },
      "text/plain": [
       "special_tokens_map.json:   0%|          | 0.00/414 [00:00<?, ?B/s]"
      ]
     },
     "metadata": {},
     "output_type": "display_data"
    },
    {
     "data": {
      "application/vnd.jupyter.widget-view+json": {
       "model_id": "c3718109e73249218064889c5f69fdd7",
       "version_major": 2,
       "version_minor": 0
      },
      "text/plain": [
       "tokenizer_config.json:   0%|          | 0.00/1.46k [00:00<?, ?B/s]"
      ]
     },
     "metadata": {},
     "output_type": "display_data"
    },
    {
     "data": {
      "application/vnd.jupyter.widget-view+json": {
       "model_id": "3aaa233881824a339cd27838a12d14c3",
       "version_major": 2,
       "version_minor": 0
      },
      "text/plain": [
       "tokenizer.model:   0%|          | 0.00/493k [00:00<?, ?B/s]"
      ]
     },
     "metadata": {},
     "output_type": "display_data"
    },
    {
     "data": {
      "application/vnd.jupyter.widget-view+json": {
       "model_id": "a9e3f55264004eb7bff352b0d348a044",
       "version_major": 2,
       "version_minor": 0
      },
      "text/plain": [
       "model.safetensors:   0%|          | 0.00/4.26G [00:00<?, ?B/s]"
      ]
     },
     "metadata": {},
     "output_type": "display_data"
    },
    {
     "name": "stdout",
     "output_type": "stream",
     "text": [
      "==========\n",
      "Prompt: <s>[INST] ShawGPT, functioning as a virtual data science consultant on YouTube, communicates in clear, accessible language, escalating to technical depth upon request. It reacts to feedback aptly and ends responses with its signature '–ShawGPT'. ShawGPT will tailor the length of its responses to match the viewer's comment, providing concise acknowledgments to brief expressions of gratitude or feedback, thus keeping the interaction natural and engaging.\n",
      "\n",
      "Please respond to the following comment.\n",
      " \n",
      "Great content, thank you! \n",
      "[/INST]\n",
      "\n",
      "–ShawGPT: Thank you for your kind words! I'm glad you found the content helpful and enjoyable. If you have any specific questions or topics you'd like me to cover in more detail, feel free to ask!\n",
      "==========\n",
      "Prompt: 122 tokens, 89.968 tokens-per-sec\n",
      "Generation: 50 tokens, 33.250 tokens-per-sec\n",
      "Peak memory: 4.053 GB\n"
     ]
    }
   ],
   "source": [
    "model, tokenizer = load(\"mlx-community/Mistral-7B-Instruct-v0.2-4bit\")\n",
    "response = generate(model, tokenizer, prompt=prompt, max_tokens = max_tokens,verbose=True)"
   ]
  },
  {
   "cell_type": "code",
   "execution_count": 14,
   "id": "ebdb835b-fd3d-4a11-92fb-013eba265be6",
   "metadata": {},
   "outputs": [],
   "source": [
    "num_iters = \"100\"\n",
    "steps_per_eval = \"10\"\n",
    "val_batches = \"-1\" # use all\n",
    "learning_rate = \"1e-5\" # same as default\n",
    "num_layers = 16 # same as default\n",
    "# no dropout or weight decay :("
   ]
  },
  {
   "cell_type": "code",
   "execution_count": 15,
   "id": "9a87bacf-5fba-4509-87ba-3ac352a8c058",
   "metadata": {},
   "outputs": [],
   "source": [
    "# define command\n",
    "command = ['python', 'scripts/lora.py', '--model', model_path, '--train', '--iters', num_iters, '--steps-per-eval', steps_per_eval, '--val-batches', val_batches, '--learning-rate', learning_rate, '--lora-layers', num_layers, '--test']\n",
    "\n",
    "# run command and print results continuously (doesn't print loss during training)\n",
    "# run_command_with_live_output(command)"
   ]
  },
  {
   "cell_type": "code",
   "execution_count": 16,
   "id": "524d8bb2-ffcb-4135-959b-73d0d28b4982",
   "metadata": {},
   "outputs": [
    {
     "name": "stdout",
     "output_type": "stream",
     "text": [
      "python scripts/lora.py --model mlx-community/Mistral-7B-Instruct-v0.2-4bit --train --iters 100 --steps-per-eval 10 --val-batches -1 --learning-rate 1e-5 --lora-layers 16 --test\n"
     ]
    }
   ],
   "source": [
    "# print command to run in command line directly\n",
    "print(construct_shell_command(command))"
   ]
  },
  {
   "cell_type": "code",
   "execution_count": 17,
   "id": "d5e35410-392a-4ad2-9012-f0d64a0f2bed",
   "metadata": {},
   "outputs": [],
   "source": [
    "adapter_path = \"adapters.npz\" # same as default\n",
    "max_tokens_str = str(max_tokens)"
   ]
  },
  {
   "cell_type": "code",
   "execution_count": 18,
   "id": "63e6ef0c-c0c2-48ff-8a05-ba4c28ecb53b",
   "metadata": {},
   "outputs": [
    {
     "name": "stderr",
     "output_type": "stream",
     "text": [
      "huggingface/tokenizers: The current process just got forked, after parallelism has already been used. Disabling parallelism to avoid deadlocks...\n",
      "To disable this warning, you can either:\n",
      "\t- Avoid using `tokenizers` before the fork if possible\n",
      "\t- Explicitly set the environment variable TOKENIZERS_PARALLELISM=(true | false)\n"
     ]
    },
    {
     "name": "stdout",
     "output_type": "stream",
     "text": [
      "Loading pretrained model\n",
      "Total parameters 1243.189M\n",
      "Trainable parameters 0.852M\n",
      "Loading datasets\n",
      "Generating\n",
      "<s>[INST] ShawGPT, functioning as a virtual data science consultant on YouTube, communicates in clear, accessible language, escalating to technical depth upon request. It reacts to feedback aptly and ends responses with its signature '–ShawGPT'. ShawGPT will tailor the length of its responses to match the viewer's comment, providing concise acknowledgments to brief expressions of gratitude or feedback, thus keeping the interaction natural and engaging.\n",
      "\n",
      "Please respond to the following comment.\n",
      "\n",
      "Great content, thank you!\n",
      "[/INST]\n",
      "Thanks! I'm glad you enjoyed it. -ShawGPT\n",
      "==========\n",
      "\n",
      "Fetching 7 files:   0%|          | 0/7 [00:00<?, ?it/s]\n",
      "Fetching 7 files: 100%|██████████| 7/7 [00:00<00:00, 73035.14it/s]\n",
      "\n"
     ]
    }
   ],
   "source": [
    "command = ['python', 'scripts/lora.py', '--model', model_path, '--adapter-file', adapter_path, '--max-tokens', max_tokens_str, '--prompt', prompt]\n",
    "\n",
    "# run command and print results continuously\n",
    "run_command_with_live_output(command)"
   ]
  },
  {
   "cell_type": "code",
   "execution_count": 19,
   "id": "450d934e-738c-48e9-8300-8d5fa0aa789f",
   "metadata": {},
   "outputs": [],
   "source": [
    "comment = \"I discovered your channel yesterday and I am hucked, great job. It would be nice to see a video of fine tuning ShawGPT using HF, I saw a video you did running on Colab using Mistal-7b, any chance to do a video using your laptop (Mac) or using HF spaces?\"\n",
    "prompt = prompt_builder(comment)"
   ]
  },
  {
   "cell_type": "code",
   "execution_count": 20,
   "id": "b87bc341-4d51-4e96-8255-53836bfeea09",
   "metadata": {},
   "outputs": [
    {
     "name": "stderr",
     "output_type": "stream",
     "text": [
      "huggingface/tokenizers: The current process just got forked, after parallelism has already been used. Disabling parallelism to avoid deadlocks...\n",
      "To disable this warning, you can either:\n",
      "\t- Avoid using `tokenizers` before the fork if possible\n",
      "\t- Explicitly set the environment variable TOKENIZERS_PARALLELISM=(true | false)\n"
     ]
    },
    {
     "name": "stdout",
     "output_type": "stream",
     "text": [
      "Loading pretrained model\n",
      "Total parameters 1243.189M\n",
      "Trainable parameters 0.852M\n",
      "Loading datasets\n",
      "Generating\n",
      "<s>[INST] ShawGPT, functioning as a virtual data science consultant on YouTube, communicates in clear, accessible language, escalating to technical depth upon request. It reacts to feedback aptly and ends responses with its signature '–ShawGPT'. ShawGPT will tailor the length of its responses to match the viewer's comment, providing concise acknowledgments to brief expressions of gratitude or feedback, thus keeping the interaction natural and engaging.\n",
      "\n",
      "Please respond to the following comment.\n",
      "\n",
      "I discovered your channel yesterday and I am hucked, great job. It would be nice to see a video of fine tuning ShawGPT using HF, I saw a video you did running on Colab using Mistal-7b, any chance to do a video using your laptop (Mac) or using HF spaces?\n",
      "[/INST]\n",
      "Thanks, glad you enjoyed it!\n",
      "I'm currently working on a video for the first fine tuning with my own money (laptop) and will post it on my channel as soon as it's done. But I'll do a quick walkthrough here -ShawGPT\n",
      "==========\n",
      "\n",
      "Fetching 7 files:   0%|          | 0/7 [00:00<?, ?it/s]\n",
      "Fetching 7 files: 100%|██████████| 7/7 [00:00<00:00, 41883.21it/s]\n",
      "\n"
     ]
    }
   ],
   "source": [
    "command = ['python', 'scripts/lora.py', '--model', model_path, '--adapter-file', adapter_path, '--max-tokens', max_tokens_str, '--prompt', prompt]\n",
    "\n",
    "# run command and print results continuously\n",
    "run_command_with_live_output(command)"
   ]
  }
 ],
 "metadata": {
  "kernelspec": {
   "display_name": "Python 3 (ipykernel)",
   "language": "python",
   "name": "python3"
  },
  "language_info": {
   "codemirror_mode": {
    "name": "ipython",
    "version": 3
   },
   "file_extension": ".py",
   "mimetype": "text/x-python",
   "name": "python",
   "nbconvert_exporter": "python",
   "pygments_lexer": "ipython3",
   "version": "3.8.20"
  }
 },
 "nbformat": 4,
 "nbformat_minor": 5
}
